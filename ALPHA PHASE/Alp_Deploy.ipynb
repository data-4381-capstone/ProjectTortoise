{
 "cells": [
  {
   "cell_type": "markdown",
   "id": "fb98ae4a",
   "metadata": {},
   "source": [
    "# Setup and Imports"
   ]
  },
  {
   "cell_type": "code",
   "execution_count": null,
   "id": "ddf84288",
   "metadata": {},
   "outputs": [],
   "source": [
    "# General imports\n",
    "import numpy as np\n",
    "import os\n",
    "\n",
    "# TensorFlow/Keras imports\n",
    "from tensorflow.keras.models import load_model\n",
    "from tensorflow.keras.preprocessing.image import ImageDataGenerator, load_img, img_to_array\n",
    "from tensorflow.keras.applications import VGG16\n",
    "from tensorflow.keras.layers import Dense, Flatten, Dropout\n",
    "from tensorflow.keras.models import Model\n",
    "from tensorflow.keras.optimizers import Adam\n",
    "\n",
    "# For deployment\n",
    "from flask import Flask, request, jsonify\n",
    "import tensorflow as tf"
   ]
  },
  {
   "cell_type": "markdown",
   "id": "71e1d3ff",
   "metadata": {},
   "source": [
    "# Model Loading and Tuning"
   ]
  },
  {
   "cell_type": "code",
   "execution_count": null,
   "id": "44c31ce2",
   "metadata": {},
   "outputs": [],
   "source": [
    "# Load the pre-trained model\n",
    "base_model = VGG16(weights='imagenet', include_top=False, input_shape=(224, 224, 3))\n",
    "\n",
    "# Freeze the base model layers\n",
    "for layer in base_model.layers:\n",
    "    layer.trainable = False\n",
    "\n",
    "# Add custom layers\n",
    "x = base_model.output\n",
    "x = Flatten()(x)\n",
    "x = Dense(256, activation='relu')(x)\n",
    "x = Dropout(0.5)(x)\n",
    "predictions = Dense(14, activation='softmax')(x)  # Adjust the number of classes\n",
    "\n",
    "# Compile the final model\n",
    "model = Model(inputs=base_model.input, outputs=predictions)\n",
    "model.compile(optimizer=Adam(learning_rate=1e-4), loss='categorical_crossentropy', metrics=['accuracy'])"
   ]
  },
  {
   "cell_type": "code",
   "execution_count": null,
   "id": "ea545914",
   "metadata": {},
   "outputs": [],
   "source": [
    "# Paths to data directories\n",
    "train_dir = 'data/train'\n",
    "val_dir = 'data/val'\n",
    "\n",
    "# Data generators\n",
    "train_datagen = ImageDataGenerator(\n",
    "    rescale=1.0/255,\n",
    "    rotation_range=20,\n",
    "    width_shift_range=0.2,\n",
    "    height_shift_range=0.2,\n",
    "    horizontal_flip=True\n",
    ")\n",
    "\n",
    "val_datagen = ImageDataGenerator(rescale=1.0/255)\n",
    "\n",
    "# Data loaders\n",
    "train_generator = train_datagen.flow_from_directory(\n",
    "    train_dir, target_size=(224, 224), batch_size=32, class_mode='categorical'\n",
    ")\n",
    "\n",
    "val_generator = val_datagen.flow_from_directory(\n",
    "    val_dir, target_size=(224, 224), batch_size=32, class_mode='categorical'\n",
    ")\n",
    "\n",
    "# Train the model\n",
    "history = model.fit(\n",
    "    train_generator,\n",
    "    validation_data=val_generator,\n",
    "    epochs=10,  # Adjust as needed\n",
    "    steps_per_epoch=train_generator.samples // train_generator.batch_size,\n",
    "    validation_steps=val_generator.samples // val_generator.batch_size\n",
    ")\n",
    "\n",
    "# Save the model for later use\n",
    "model.save('facial_recognition_model.h5')"
   ]
  },
  {
   "cell_type": "markdown",
   "id": "6b8eff1d",
   "metadata": {},
   "source": [
    "# Inference"
   ]
  },
  {
   "cell_type": "code",
   "execution_count": null,
   "id": "352f5af0",
   "metadata": {},
   "outputs": [],
   "source": [
    "# Load the saved model\n",
    "model = load_model('facial_recognition_model.h5')\n",
    "\n",
    "# Function to preprocess images\n",
    "def preprocess_image(image_path):\n",
    "    img = load_img(image_path, target_size=(224, 224))\n",
    "    img_array = img_to_array(img) / 255.0\n",
    "    img_array = np.expand_dims(img_array, axis=0)\n",
    "    return img_array\n",
    "\n",
    "# Function for prediction\n",
    "def predict(image_path):\n",
    "    processed_image = preprocess_image(image_path)\n",
    "    predictions = model.predict(processed_image)\n",
    "    class_index = np.argmax(predictions)\n",
    "    confidence = np.max(predictions)\n",
    "    return class_index, confidence\n",
    "\n",
    "# Test the inference function\n",
    "image_path = 'test_image.jpg'  # Replace with your test image path\n",
    "class_index, confidence = predict(image_path)\n",
    "print(f\"Predicted Class: {class_index}, Confidence: {confidence:.2f}\")"
   ]
  },
  {
   "cell_type": "markdown",
   "id": "38ca2a3e",
   "metadata": {},
   "source": [
    "# Flask Deployment"
   ]
  },
  {
   "cell_type": "code",
   "execution_count": null,
   "id": "226c8a35",
   "metadata": {},
   "outputs": [],
   "source": [
    "# Flask API for deployment\n",
    "app = Flask(__name__)\n",
    "\n",
    "@app.route('/predict', methods=['POST'])\n",
    "def predict_api():\n",
    "    file = request.files['image']\n",
    "    if not file:\n",
    "        return jsonify({'error': 'No file uploaded'}), 400\n",
    "\n",
    "    # Save and preprocess the image\n",
    "    image_path = './temp.jpg'\n",
    "    file.save(image_path)\n",
    "    class_index, confidence = predict(image_path)\n",
    "\n",
    "    return jsonify({'class_index': int(class_index), 'confidence': float(confidence)})\n",
    "\n",
    "# Run the Flask app (execute only when running locally)\n",
    "if __name__ == '__main__':\n",
    "    app.run(debug=True)"
   ]
  },
  {
   "cell_type": "markdown",
   "id": "0013c702",
   "metadata": {},
   "source": [
    "# Testing API"
   ]
  },
  {
   "cell_type": "code",
   "execution_count": null,
   "id": "6e8a472e",
   "metadata": {},
   "outputs": [],
   "source": [
    "import requests\n",
    "\n",
    "url = 'http://127.0.0.1:5000/predict'\n",
    "files = {'image': open('test_image.jpg', 'rb')}\n",
    "response = requests.post(url, files=files)\n",
    "\n",
    "print(response.json())"
   ]
  }
 ],
 "metadata": {
  "kernelspec": {
   "display_name": "Python 3 (ipykernel)",
   "language": "python",
   "name": "python3"
  },
  "language_info": {
   "codemirror_mode": {
    "name": "ipython",
    "version": 3
   },
   "file_extension": ".py",
   "mimetype": "text/x-python",
   "name": "python",
   "nbconvert_exporter": "python",
   "pygments_lexer": "ipython3",
   "version": "3.9.13"
  }
 },
 "nbformat": 4,
 "nbformat_minor": 5
}
