{
 "cells": [
  {
   "cell_type": "markdown",
   "id": "d6f6d941",
   "metadata": {},
   "source": [
    "# Load Base Model"
   ]
  },
  {
   "cell_type": "code",
   "execution_count": 1,
   "id": "f09b440c",
   "metadata": {},
   "outputs": [
    {
     "name": "stderr",
     "output_type": "stream",
     "text": [
      "2024-10-09 16:55:53.739583: I tensorflow/tsl/cuda/cudart_stub.cc:28] Could not find cuda drivers on your machine, GPU will not be used.\n",
      "2024-10-09 16:55:53.892500: I tensorflow/tsl/cuda/cudart_stub.cc:28] Could not find cuda drivers on your machine, GPU will not be used.\n",
      "2024-10-09 16:55:53.894767: I tensorflow/core/platform/cpu_feature_guard.cc:182] This TensorFlow binary is optimized to use available CPU instructions in performance-critical operations.\n",
      "To enable the following instructions: AVX2 FMA, in other operations, rebuild TensorFlow with the appropriate compiler flags.\n",
      "2024-10-09 16:55:56.297136: W tensorflow/compiler/tf2tensorrt/utils/py_utils.cc:38] TF-TRT Warning: Could not find TensorRT\n",
      "2024-10-09 16:55:59.881476: I tensorflow/compiler/xla/stream_executor/cuda/cuda_gpu_executor.cc:982] could not open file to read NUMA node: /sys/bus/pci/devices/0000:01:00.0/numa_node\n",
      "Your kernel may have been built without NUMA support.\n",
      "2024-10-09 16:55:59.883013: W tensorflow/core/common_runtime/gpu/gpu_device.cc:1956] Cannot dlopen some GPU libraries. Please make sure the missing libraries mentioned above are installed properly if you would like to use GPU. Follow the guide at https://www.tensorflow.org/install/gpu for how to download and setup the required libraries for your platform.\n",
      "Skipping registering GPU devices...\n"
     ]
    },
    {
     "name": "stdout",
     "output_type": "stream",
     "text": [
      "Model: \"sequential\"\n",
      "_________________________________________________________________\n",
      " Layer (type)                Output Shape              Param #   \n",
      "=================================================================\n",
      " vgg16 (Functional)          (None, 7, 7, 512)         14714688  \n",
      "                                                                 \n",
      " flatten_1 (Flatten)         (None, 25088)             0         \n",
      "                                                                 \n",
      " dense_1 (Dense)             (None, 256)               6422784   \n",
      "                                                                 \n",
      " dropout_1 (Dropout)         (None, 256)               0         \n",
      "                                                                 \n",
      " dense_2 (Dense)             (None, 14)                3598      \n",
      "                                                                 \n",
      "=================================================================\n",
      "Total params: 21,141,070\n",
      "Trainable params: 6,426,382\n",
      "Non-trainable params: 14,714,688\n",
      "_________________________________________________________________\n"
     ]
    }
   ],
   "source": [
    "from tensorflow.keras.models import load_model\n",
    "\n",
    "# Load the model from the saved path\n",
    "model = load_model('/mnt/c/users/efazh/DataCapstone/vgg16_baseline_model.h5')\n",
    "model.summary()"
   ]
  },
  {
   "cell_type": "code",
   "execution_count": 2,
   "id": "97401c66",
   "metadata": {},
   "outputs": [
    {
     "name": "stdout",
     "output_type": "stream",
     "text": [
      "Found 388 images belonging to 14 classes.\n",
      "Found 85 images belonging to 14 classes.\n",
      "Found 92 images belonging to 14 classes.\n"
     ]
    }
   ],
   "source": [
    "from tensorflow.keras.preprocessing.image import ImageDataGenerator\n",
    "\n",
    "# Set the paths to your dataset\n",
    "train_dir = '/mnt/c/users/efazh/DataCapstone/ProjectTortoise/split_data/train'\n",
    "val_dir = '/mnt/c/users/efazh/DataCapstone/ProjectTortoise/split_data/val'\n",
    "test_dir = '/mnt/c/users/efazh/DataCapstone/ProjectTortoise/split_data/test'\n",
    "\n",
    "# Data augmentation for the training set\n",
    "train_datagen = ImageDataGenerator(\n",
    "    rescale=1./255,\n",
    "    rotation_range=40,\n",
    "    width_shift_range=0.2,\n",
    "    height_shift_range=0.2,\n",
    "    shear_range=0.2,\n",
    "    zoom_range=0.2,\n",
    "    horizontal_flip=True,\n",
    "    fill_mode='nearest'\n",
    ")\n",
    "\n",
    "# For validation and test sets (no augmentation, just rescaling)\n",
    "val_test_datagen = ImageDataGenerator(rescale=1./255)\n",
    "\n",
    "# Create the train, validation, and test generators\n",
    "train_generator = train_datagen.flow_from_directory(\n",
    "    train_dir,\n",
    "    target_size=(224, 224),  # VGG16 expects 224x224 input images\n",
    "    batch_size=32,\n",
    "    class_mode='categorical'\n",
    ")\n",
    "\n",
    "val_generator = val_test_datagen.flow_from_directory(\n",
    "    val_dir,\n",
    "    target_size=(224, 224),\n",
    "    batch_size=32,\n",
    "    class_mode='categorical'\n",
    ")\n",
    "\n",
    "test_generator = val_test_datagen.flow_from_directory(\n",
    "    test_dir,\n",
    "    target_size=(224, 224),\n",
    "    batch_size=32,\n",
    "    class_mode='categorical',\n",
    "    shuffle=False  # No need to shuffle the test set\n",
    ")"
   ]
  },
  {
   "cell_type": "markdown",
   "id": "fdaee627",
   "metadata": {},
   "source": [
    "# Fine-Tuning Model"
   ]
  },
  {
   "cell_type": "code",
   "execution_count": 3,
   "id": "371cb612",
   "metadata": {},
   "outputs": [
    {
     "name": "stdout",
     "output_type": "stream",
     "text": [
      "Layer input_1: Trainable = False\n",
      "Layer block1_conv1: Trainable = False\n",
      "Layer block1_conv2: Trainable = False\n",
      "Layer block1_pool: Trainable = False\n",
      "Layer block2_conv1: Trainable = False\n",
      "Layer block2_conv2: Trainable = False\n",
      "Layer block2_pool: Trainable = False\n",
      "Layer block3_conv1: Trainable = False\n",
      "Layer block3_conv2: Trainable = False\n",
      "Layer block3_conv3: Trainable = False\n",
      "Layer block3_pool: Trainable = False\n",
      "Layer block4_conv1: Trainable = False\n",
      "Layer block4_conv2: Trainable = False\n",
      "Layer block4_conv3: Trainable = False\n",
      "Layer block4_pool: Trainable = False\n",
      "Layer block5_conv1: Trainable = True\n",
      "Layer block5_conv2: Trainable = True\n",
      "Layer block5_conv3: Trainable = True\n",
      "Layer block5_pool: Trainable = True\n"
     ]
    }
   ],
   "source": [
    "# Unfreeze some layers of the base model (VGG16)\n",
    "# Assuming the first layer of the model is the VGG16 base model\n",
    "base_model = model.layers[0]\n",
    "\n",
    "# Unfreeze the last 4 convolutional layers for fine-tuning\n",
    "base_model.trainable = True  # Set the whole base model as trainable\n",
    "for layer in base_model.layers[:-4]:  # Keep all but the last 4 layers frozen\n",
    "    layer.trainable = False\n",
    "\n",
    "# Check which layers are trainable\n",
    "for layer in base_model.layers:\n",
    "    print(f\"Layer {layer.name}: Trainable = {layer.trainable}\")\n"
   ]
  },
  {
   "cell_type": "code",
   "execution_count": 5,
   "id": "427e9c35",
   "metadata": {},
   "outputs": [],
   "source": [
    "import tensorflow as tf\n",
    "# Compile the model with a low learning rate for fine-tuning\n",
    "model.compile(optimizer=tf.keras.optimizers.Adam(learning_rate=1e-5),  # Use a lower learning rate\n",
    "              loss='categorical_crossentropy',\n",
    "              metrics=['accuracy'])\n"
   ]
  },
  {
   "cell_type": "code",
   "execution_count": 6,
   "id": "92bb048b",
   "metadata": {},
   "outputs": [
    {
     "name": "stdout",
     "output_type": "stream",
     "text": [
      "Epoch 1/7\n"
     ]
    },
    {
     "name": "stderr",
     "output_type": "stream",
     "text": [
      "2024-10-09 16:57:25.377850: I tensorflow/core/common_runtime/executor.cc:1197] [/device:CPU:0] (DEBUG INFO) Executor start aborting (this does not indicate an error and you can ignore this message): INVALID_ARGUMENT: You must feed a value for placeholder tensor 'Placeholder/_0' with dtype int32\n",
      "\t [[{{node Placeholder/_0}}]]\n",
      "2024-10-09 16:57:27.791118: W tensorflow/tsl/framework/cpu_allocator_impl.cc:83] Allocation of 411041792 exceeds 10% of free system memory.\n",
      "2024-10-09 16:57:28.337934: W tensorflow/tsl/framework/cpu_allocator_impl.cc:83] Allocation of 411041792 exceeds 10% of free system memory.\n",
      "2024-10-09 16:57:29.291569: W tensorflow/tsl/framework/cpu_allocator_impl.cc:83] Allocation of 102760448 exceeds 10% of free system memory.\n",
      "2024-10-09 16:57:29.451813: W tensorflow/tsl/framework/cpu_allocator_impl.cc:83] Allocation of 205520896 exceeds 10% of free system memory.\n",
      "2024-10-09 16:57:29.708975: W tensorflow/tsl/framework/cpu_allocator_impl.cc:83] Allocation of 205520896 exceeds 10% of free system memory.\n"
     ]
    },
    {
     "name": "stdout",
     "output_type": "stream",
     "text": [
      "12/12 [==============================] - ETA: 0s - loss: 1.4388 - accuracy: 0.5234"
     ]
    },
    {
     "name": "stderr",
     "output_type": "stream",
     "text": [
      "2024-10-09 16:58:17.040187: I tensorflow/core/common_runtime/executor.cc:1197] [/device:CPU:0] (DEBUG INFO) Executor start aborting (this does not indicate an error and you can ignore this message): INVALID_ARGUMENT: You must feed a value for placeholder tensor 'Placeholder/_0' with dtype int32\n",
      "\t [[{{node Placeholder/_0}}]]\n"
     ]
    },
    {
     "name": "stdout",
     "output_type": "stream",
     "text": [
      "12/12 [==============================] - 58s 5s/step - loss: 1.4388 - accuracy: 0.5234 - val_loss: 1.2554 - val_accuracy: 0.6094\n",
      "Epoch 2/7\n",
      "12/12 [==============================] - 53s 4s/step - loss: 1.4116 - accuracy: 0.5562 - val_loss: 1.1073 - val_accuracy: 0.6719\n",
      "Epoch 3/7\n",
      "12/12 [==============================] - 51s 4s/step - loss: 1.3404 - accuracy: 0.5443 - val_loss: 1.2444 - val_accuracy: 0.6406\n",
      "Epoch 4/7\n",
      "12/12 [==============================] - 49s 4s/step - loss: 1.3249 - accuracy: 0.5758 - val_loss: 1.1270 - val_accuracy: 0.6562\n",
      "Epoch 5/7\n",
      "12/12 [==============================] - 49s 4s/step - loss: 1.3248 - accuracy: 0.5758 - val_loss: 1.0885 - val_accuracy: 0.6406\n",
      "Epoch 6/7\n",
      "12/12 [==============================] - 55s 5s/step - loss: 1.2653 - accuracy: 0.5938 - val_loss: 1.0269 - val_accuracy: 0.7344\n",
      "Epoch 7/7\n",
      "12/12 [==============================] - 52s 4s/step - loss: 1.2179 - accuracy: 0.6292 - val_loss: 1.1122 - val_accuracy: 0.7031\n"
     ]
    }
   ],
   "source": [
    "# Continue training (fine-tuning) the model\n",
    "history_fine = model.fit(\n",
    "    train_generator,  # Recreated train generator\n",
    "    steps_per_epoch=train_generator.samples // train_generator.batch_size,\n",
    "    epochs=7,\n",
    "    validation_data=val_generator,  # Recreated validation generator\n",
    "    validation_steps=val_generator.samples // val_generator.batch_size\n",
    ")"
   ]
  },
  {
   "cell_type": "code",
   "execution_count": 7,
   "id": "bc2d7679",
   "metadata": {},
   "outputs": [
    {
     "name": "stderr",
     "output_type": "stream",
     "text": [
      "2024-10-09 17:03:40.104179: I tensorflow/core/common_runtime/executor.cc:1197] [/device:CPU:0] (DEBUG INFO) Executor start aborting (this does not indicate an error and you can ignore this message): INVALID_ARGUMENT: You must feed a value for placeholder tensor 'Placeholder/_0' with dtype int32\n",
      "\t [[{{node Placeholder/_0}}]]\n"
     ]
    },
    {
     "name": "stdout",
     "output_type": "stream",
     "text": [
      "2/2 [==============================] - 6s 3s/step - loss: 0.8781 - accuracy: 0.6719\n",
      "Test Accuracy after fine-tuning: 67.19%\n"
     ]
    }
   ],
   "source": [
    "# Evaluate the fine-tuned model on the test set\n",
    "test_loss, test_acc = model.evaluate(test_generator, steps=test_generator.samples // test_generator.batch_size)\n",
    "print(f\"Test Accuracy after fine-tuning: {test_acc * 100:.2f}%\")"
   ]
  },
  {
   "cell_type": "code",
   "execution_count": 9,
   "id": "c649a3ff",
   "metadata": {},
   "outputs": [
    {
     "data": {
      "image/png": "[encoded data removed]",
      "text/plain": [
       "<Figure size 1200x400 with 2 Axes>"
      ]
     },
     "metadata": {},
     "output_type": "display_data"
    }
   ],
   "source": [
    "import matplotlib.pyplot as plt\n",
    "\n",
    "def plot_training_history(history):\n",
    "    # Plot training & validation accuracy values\n",
    "    plt.figure(figsize=(12, 4))\n",
    "\n",
    "    # Plot accuracy\n",
    "    plt.subplot(1, 2, 1)\n",
    "    plt.plot(history.history['accuracy'], label='Training Accuracy')\n",
    "    plt.plot(history.history['val_accuracy'], label='Validation Accuracy')\n",
    "    plt.title('Model Accuracy')\n",
    "    plt.xlabel('Epoch')\n",
    "    plt.ylabel('Accuracy')\n",
    "    plt.legend(loc='upper left')\n",
    "\n",
    "    # Plot loss\n",
    "    plt.subplot(1, 2, 2)\n",
    "    plt.plot(history.history['loss'], label='Training Loss')\n",
    "    plt.plot(history.history['val_loss'], label='Validation Loss')\n",
    "    plt.title('Model Loss')\n",
    "    plt.xlabel('Epoch')\n",
    "    plt.ylabel('Loss')\n",
    "    plt.legend(loc='upper left')\n",
    "\n",
    "    plt.tight_layout()\n",
    "    plt.show()\n",
    "\n",
    "# Call the function to plot the training history\n",
    "plot_training_history(history_fine)"
   ]
  },
  {
   "cell_type": "markdown",
   "id": "4b7ac8a3",
   "metadata": {},
   "source": [
    "# Adjustment of Hyperparameters"
   ]
  },
  {
   "cell_type": "markdown",
   "id": "7fd3eb82",
   "metadata": {},
   "source": [
    "# Aggressive Data Augmentation"
   ]
  },
  {
   "cell_type": "markdown",
   "id": "6646b7fa",
   "metadata": {},
   "source": [
    "# Regularization"
   ]
  },
  {
   "cell_type": "markdown",
   "id": "7def5c4b",
   "metadata": {},
   "source": [
    "# Optimizer Changes"
   ]
  },
  {
   "cell_type": "markdown",
   "id": "ae40836a",
   "metadata": {},
   "source": [
    "# Early Stopping and Model Checkpoints"
   ]
  }
 ],
 "metadata": {
  "kernelspec": {
   "display_name": "Python 3 (ipykernel)",
   "language": "python",
   "name": "python3"
  },
  "language_info": {
   "codemirror_mode": {
    "name": "ipython",
    "version": 3
   },
   "file_extension": ".py",
   "mimetype": "text/x-python",
   "name": "python",
   "nbconvert_exporter": "python",
   "pygments_lexer": "ipython3",
   "version": "3.10.12"
  }
 },
 "nbformat": 4,
 "nbformat_minor": 5
}
