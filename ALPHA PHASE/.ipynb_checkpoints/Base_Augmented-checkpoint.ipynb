{
 "cells": [
  {
   "cell_type": "markdown",
   "id": "e335fd86",
   "metadata": {},
   "source": [
    "# Base Model (VGG16)\n",
    "\n",
    "In this notebook, we will start the building of the Base Model for this project. It will involve the splitting of our dataset, choosing a general model, evaluating said model and visualizing it."
   ]
  },
  {
   "cell_type": "markdown",
   "id": "ca864265",
   "metadata": {},
   "source": [
    "# Dataset Splitting"
   ]
  },
  {
   "cell_type": "code",
   "execution_count": 1,
   "id": "f191c622",
   "metadata": {},
   "outputs": [],
   "source": [
    "import os\n",
    "import shutil\n",
    "from sklearn.model_selection import train_test_split\n",
    "\n",
    "# Paths to your original dataset directory and where you want to save the splits\n",
    "data_dir = '/mnt/c/users/efazh/DataCapstone/ProjectTortoise/data'  # Original dataset path\n",
    "output_dir = '/mnt/c/users/efazh/DataCapstone/ProjectTortoise/split_data'  # Output directory\n",
    "\n",
    "# Define ratios for the splits\n",
    "train_ratio = 0.7\n",
    "val_ratio = 0.15  # The rest will be for the test set\n",
    "\n",
    "# Create the output directories for train, validation, and test\n",
    "train_dir = os.path.join(output_dir, 'train')\n",
    "val_dir = os.path.join(output_dir, 'val')\n",
    "test_dir = os.path.join(output_dir, 'test')\n",
    "\n",
    "os.makedirs(train_dir, exist_ok=True)\n",
    "os.makedirs(val_dir, exist_ok=True)\n",
    "os.makedirs(test_dir, exist_ok=True)\n",
    "\n",
    "# Minimum number of images required to split dataset\n",
    "min_images = 3"
   ]
  },
  {
   "cell_type": "code",
   "execution_count": 2,
   "id": "e544d11e",
   "metadata": {},
   "outputs": [
    {
     "name": "stdout",
     "output_type": "stream",
     "text": [
      "Skipping class '.ipynb_checkpoints' - not enough images to split (found 0 images).\n",
      "Skipping class '.ipynb_checkpoints_augmented' - not enough images to split (found 0 images).\n",
      "Dataset split into train, validation, and test sets successfully.\n"
     ]
    }
   ],
   "source": [
    "# Function to split images into train, validation, and test sets\n",
    "def split_dataset(class_name, class_path, output_dir):\n",
    "    # Get all image files in the current class directory\n",
    "    image_files = [f for f in os.listdir(class_path) if os.path.isfile(os.path.join(class_path, f))]\n",
    "\n",
    "    # Check if there are enough images to split\n",
    "    if len(image_files) < min_images:\n",
    "        print(f\"Skipping class '{class_name}' - not enough images to split (found {len(image_files)} images).\")\n",
    "        return\n",
    "\n",
    "    # Split into train and temp (val+test) sets first\n",
    "    train_files, temp_files = train_test_split(image_files, test_size=1 - train_ratio, random_state=42)\n",
    "    \n",
    "    # Split the temp set into validation and test sets\n",
    "    val_files, test_files = train_test_split(temp_files, test_size=val_ratio/(val_ratio + (1 - train_ratio - val_ratio)), random_state=42)\n",
    "\n",
    "    # Function to copy files to the new folder structure\n",
    "    def copy_files(file_list, target_dir):\n",
    "        class_target_dir = os.path.join(target_dir, class_name)\n",
    "        os.makedirs(class_target_dir, exist_ok=True)\n",
    "        for file in file_list:\n",
    "            shutil.copy(os.path.join(class_path, file), os.path.join(class_target_dir, file))\n",
    "\n",
    "    # Copy the files\n",
    "    copy_files(train_files, train_dir)\n",
    "    copy_files(val_files, val_dir)\n",
    "    copy_files(test_files, test_dir)\n",
    "\n",
    "# Loop through each class directory and apply the split\n",
    "for class_name in os.listdir(data_dir):\n",
    "    class_path = os.path.join(data_dir, class_name)\n",
    "    if os.path.isdir(class_path):  # Only process directories (ignore other files if any)\n",
    "        split_dataset(class_name, class_path, output_dir)\n",
    "\n",
    "print(\"Dataset split into train, validation, and test sets successfully.\")"
   ]
  },
  {
   "cell_type": "markdown",
   "id": "719c1e05",
   "metadata": {},
   "source": [
    "# Choosing Models\n",
    "\n",
    "We will use a pre-trained model (VGG16). Transfer learning allows us to leverage the knowledge from these pre-trained models and adapt it to our dataset."
   ]
  },
  {
   "cell_type": "markdown",
   "id": "95f059a1",
   "metadata": {},
   "source": [
    "## Data Loading"
   ]
  },
  {
   "cell_type": "code",
   "execution_count": 3,
   "id": "cc880e40",
   "metadata": {},
   "outputs": [
    {
     "name": "stderr",
     "output_type": "stream",
     "text": [
      "2024-10-09 16:37:06.098216: I tensorflow/tsl/cuda/cudart_stub.cc:28] Could not find cuda drivers on your machine, GPU will not be used.\n",
      "2024-10-09 16:37:06.601585: I tensorflow/tsl/cuda/cudart_stub.cc:28] Could not find cuda drivers on your machine, GPU will not be used.\n",
      "2024-10-09 16:37:06.603598: I tensorflow/core/platform/cpu_feature_guard.cc:182] This TensorFlow binary is optimized to use available CPU instructions in performance-critical operations.\n",
      "To enable the following instructions: AVX2 FMA, in other operations, rebuild TensorFlow with the appropriate compiler flags.\n",
      "2024-10-09 16:37:08.422142: W tensorflow/compiler/tf2tensorrt/utils/py_utils.cc:38] TF-TRT Warning: Could not find TensorRT\n"
     ]
    },
    {
     "name": "stdout",
     "output_type": "stream",
     "text": [
      "Found 388 images belonging to 14 classes.\n",
      "Found 85 images belonging to 14 classes.\n",
      "Found 92 images belonging to 14 classes.\n"
     ]
    }
   ],
   "source": [
    "from tensorflow.keras.preprocessing.image import ImageDataGenerator\n",
    "\n",
    "# Define the paths to your split dataset\n",
    "train_dir = '/mnt/c/users/efazh/DataCapstone/ProjectTortoise/split_data/train'\n",
    "val_dir = '/mnt/c/users/efazh/DataCapstone/ProjectTortoise/split_data/val'\n",
    "test_dir = '/mnt/c/users/efazh/DataCapstone/ProjectTortoise/split_data/test'\n",
    "\n",
    "# Data augmentation for the training set\n",
    "train_datagen = ImageDataGenerator(\n",
    "    rescale=1./255,  # Rescale pixel values\n",
    "    rotation_range=40,\n",
    "    width_shift_range=0.2,\n",
    "    height_shift_range=0.2,\n",
    "    shear_range=0.2,\n",
    "    zoom_range=0.2,\n",
    "    horizontal_flip=True,\n",
    "    fill_mode='nearest'\n",
    ")\n",
    "\n",
    "# Validation and test sets don't need augmentation, just rescaling\n",
    "val_datagen = ImageDataGenerator(rescale=1./255)\n",
    "test_datagen = ImageDataGenerator(rescale=1./255)\n",
    "\n",
    "# Create the data loaders\n",
    "train_generator = train_datagen.flow_from_directory(\n",
    "    train_dir,\n",
    "    target_size=(224, 224),  # VGG16 expects 224x224 input images\n",
    "    batch_size=32,\n",
    "    class_mode='categorical'\n",
    ")\n",
    "\n",
    "val_generator = val_datagen.flow_from_directory(\n",
    "    val_dir,\n",
    "    target_size=(224, 224),\n",
    "    batch_size=32,\n",
    "    class_mode='categorical'\n",
    ")\n",
    "\n",
    "test_generator = test_datagen.flow_from_directory(\n",
    "    test_dir,\n",
    "    target_size=(224, 224),\n",
    "    batch_size=32,\n",
    "    class_mode='categorical',\n",
    "    shuffle=False  # No need to shuffle the test set\n",
    ")"
   ]
  },
  {
   "cell_type": "markdown",
   "id": "a837534f",
   "metadata": {},
   "source": [
    "### VGG 16"
   ]
  },
  {
   "cell_type": "code",
   "execution_count": 4,
   "id": "c3e30175",
   "metadata": {},
   "outputs": [
    {
     "name": "stderr",
     "output_type": "stream",
     "text": [
      "2024-10-09 16:37:13.321421: I tensorflow/compiler/xla/stream_executor/cuda/cuda_gpu_executor.cc:982] could not open file to read NUMA node: /sys/bus/pci/devices/0000:01:00.0/numa_node\n",
      "Your kernel may have been built without NUMA support.\n",
      "2024-10-09 16:37:13.322621: W tensorflow/core/common_runtime/gpu/gpu_device.cc:1956] Cannot dlopen some GPU libraries. Please make sure the missing libraries mentioned above are installed properly if you would like to use GPU. Follow the guide at https://www.tensorflow.org/install/gpu for how to download and setup the required libraries for your platform.\n",
      "Skipping registering GPU devices...\n"
     ]
    }
   ],
   "source": [
    "from tensorflow.keras.applications import VGG16\n",
    "from tensorflow.keras import layers, models\n",
    "\n",
    "# Load the VGG16 model pre-trained on ImageNet, excluding the top fully connected layers\n",
    "base_model = VGG16(weights='imagenet', include_top=False, input_shape=(224, 224, 3))\n",
    "\n",
    "# Freeze the convolutional base\n",
    "base_model.trainable = False"
   ]
  },
  {
   "cell_type": "code",
   "execution_count": 6,
   "id": "d553028b",
   "metadata": {},
   "outputs": [
    {
     "name": "stdout",
     "output_type": "stream",
     "text": [
      "Model: \"sequential\"\n",
      "_________________________________________________________________\n",
      " Layer (type)                Output Shape              Param #   \n",
      "=================================================================\n",
      " vgg16 (Functional)          (None, 7, 7, 512)         14714688  \n",
      "                                                                 \n",
      " flatten_1 (Flatten)         (None, 25088)             0         \n",
      "                                                                 \n",
      " dense_1 (Dense)             (None, 256)               6422784   \n",
      "                                                                 \n",
      " dropout_1 (Dropout)         (None, 256)               0         \n",
      "                                                                 \n",
      " dense_2 (Dense)             (None, 14)                3598      \n",
      "                                                                 \n",
      "=================================================================\n",
      "Total params: 21,141,070\n",
      "Trainable params: 6,426,382\n",
      "Non-trainable params: 14,714,688\n",
      "_________________________________________________________________\n"
     ]
    }
   ],
   "source": [
    "# Create the model with the 14 neural layers\n",
    "model = models.Sequential([\n",
    "    base_model,  # Pre-trained VGG16 base\n",
    "    layers.Flatten(),  # Flatten the output\n",
    "    layers.Dense(256, activation='relu'),  # Fully connected layer\n",
    "    layers.Dropout(0.5),  # Dropout for regularization\n",
    "    layers.Dense(14, activation='softmax')  # Adjust the number of classes dynamically\n",
    "])\n",
    "\n",
    "\n",
    "# Summary of the model\n",
    "model.summary()"
   ]
  },
  {
   "cell_type": "code",
   "execution_count": 7,
   "id": "937e61be",
   "metadata": {},
   "outputs": [
    {
     "name": "stdout",
     "output_type": "stream",
     "text": [
      "Epoch 1/7\n"
     ]
    },
    {
     "name": "stderr",
     "output_type": "stream",
     "text": [
      "2024-10-09 16:37:32.511815: I tensorflow/core/common_runtime/executor.cc:1197] [/device:CPU:0] (DEBUG INFO) Executor start aborting (this does not indicate an error and you can ignore this message): INVALID_ARGUMENT: You must feed a value for placeholder tensor 'Placeholder/_0' with dtype int32\n",
      "\t [[{{node Placeholder/_0}}]]\n",
      "2024-10-09 16:37:34.230232: W tensorflow/tsl/framework/cpu_allocator_impl.cc:83] Allocation of 411041792 exceeds 10% of free system memory.\n",
      "2024-10-09 16:37:34.474272: W tensorflow/tsl/framework/cpu_allocator_impl.cc:83] Allocation of 411041792 exceeds 10% of free system memory.\n"
     ]
    },
    {
     "name": "stdout",
     "output_type": "stream",
     "text": [
      "\r",
      " 1/12 [=>............................] - ETA: 54s - loss: 2.7694 - accuracy: 0.0938"
     ]
    },
    {
     "name": "stderr",
     "output_type": "stream",
     "text": [
      "2024-10-09 16:37:37.511927: W tensorflow/tsl/framework/cpu_allocator_impl.cc:83] Allocation of 411041792 exceeds 10% of free system memory.\n",
      "2024-10-09 16:37:37.700205: W tensorflow/tsl/framework/cpu_allocator_impl.cc:83] Allocation of 411041792 exceeds 10% of free system memory.\n"
     ]
    },
    {
     "name": "stdout",
     "output_type": "stream",
     "text": [
      "\b\b\b\b\b\b\b\b\b\b\b\b\b\b\b\b\b\b\b\b\b\b\b\b\b\b\b\b\b\b\b\b\b\b\b\b\b\b\b\b\b\b\b\b\b\b\b\b\b\b\b\b\b\b\b\b\b\b\b\b\b\b\b\b\b\b\b\b\b\b\b\b\b\b\b\b\b\b\b\b\b\b\b\r",
      " 2/12 [====>.........................] - ETA: 32s - loss: 6.0262 - accuracy: 0.1250"
     ]
    },
    {
     "name": "stderr",
     "output_type": "stream",
     "text": [
      "2024-10-09 16:37:40.804111: W tensorflow/tsl/framework/cpu_allocator_impl.cc:83] Allocation of 411041792 exceeds 10% of free system memory.\n"
     ]
    },
    {
     "name": "stdout",
     "output_type": "stream",
     "text": [
      "12/12 [==============================] - ETA: 0s - loss: 5.2174 - accuracy: 0.2135"
     ]
    },
    {
     "name": "stderr",
     "output_type": "stream",
     "text": [
      "2024-10-09 16:38:09.662493: I tensorflow/core/common_runtime/executor.cc:1197] [/device:CPU:0] (DEBUG INFO) Executor start aborting (this does not indicate an error and you can ignore this message): INVALID_ARGUMENT: You must feed a value for placeholder tensor 'Placeholder/_0' with dtype int32\n",
      "\t [[{{node Placeholder/_0}}]]\n"
     ]
    },
    {
     "name": "stdout",
     "output_type": "stream",
     "text": [
      "12/12 [==============================] - 44s 4s/step - loss: 5.2174 - accuracy: 0.2135 - val_loss: 2.2067 - val_accuracy: 0.4531\n",
      "Epoch 2/7\n",
      "12/12 [==============================] - 40s 3s/step - loss: 2.2388 - accuracy: 0.3820 - val_loss: 1.5683 - val_accuracy: 0.5625\n",
      "Epoch 3/7\n",
      "12/12 [==============================] - 39s 3s/step - loss: 1.7093 - accuracy: 0.4494 - val_loss: 1.4211 - val_accuracy: 0.5938\n",
      "Epoch 4/7\n",
      "12/12 [==============================] - 39s 4s/step - loss: 1.6746 - accuracy: 0.4831 - val_loss: 1.3238 - val_accuracy: 0.6250\n",
      "Epoch 5/7\n",
      "12/12 [==============================] - 43s 4s/step - loss: 1.5593 - accuracy: 0.5197 - val_loss: 1.2522 - val_accuracy: 0.6406\n",
      "Epoch 6/7\n",
      "12/12 [==============================] - 43s 4s/step - loss: 1.5597 - accuracy: 0.4916 - val_loss: 1.2446 - val_accuracy: 0.6250\n",
      "Epoch 7/7\n",
      "12/12 [==============================] - 43s 4s/step - loss: 1.5829 - accuracy: 0.5028 - val_loss: 1.2468 - val_accuracy: 0.6094\n"
     ]
    }
   ],
   "source": [
    "# Recompile the model\n",
    "model.compile(optimizer='adam',\n",
    "              loss='categorical_crossentropy',\n",
    "              metrics=['accuracy'])\n",
    "\n",
    "# Train the model again\n",
    "history = model.fit(\n",
    "    train_generator,\n",
    "    steps_per_epoch=train_generator.samples // train_generator.batch_size,\n",
    "    epochs=7,\n",
    "    validation_data=val_generator,\n",
    "    validation_steps=val_generator.samples // val_generator.batch_size\n",
    ")"
   ]
  },
  {
   "cell_type": "markdown",
   "id": "6f7d8bce",
   "metadata": {},
   "source": [
    "# Evaluating Model\n",
    "\n",
    "After training, evaluate the model's performance using the test set to measure its generalization ability."
   ]
  },
  {
   "cell_type": "code",
   "execution_count": 8,
   "id": "2f0e6904",
   "metadata": {},
   "outputs": [
    {
     "name": "stderr",
     "output_type": "stream",
     "text": [
      "2024-10-09 16:42:47.320075: I tensorflow/core/common_runtime/executor.cc:1197] [/device:CPU:0] (DEBUG INFO) Executor start aborting (this does not indicate an error and you can ignore this message): INVALID_ARGUMENT: You must feed a value for placeholder tensor 'Placeholder/_0' with dtype int32\n",
      "\t [[{{node Placeholder/_0}}]]\n"
     ]
    },
    {
     "name": "stdout",
     "output_type": "stream",
     "text": [
      "2/2 [==============================] - 6s 3s/step - loss: 0.9386 - accuracy: 0.6875\n",
      "Test Accuracy: 68.75%\n"
     ]
    }
   ],
   "source": [
    "# Evaluate the model on the test set\n",
    "test_loss, test_acc = model.evaluate(test_generator, steps=test_generator.samples // test_generator.batch_size)\n",
    "print(f\"Test Accuracy: {test_acc * 100:.2f}%\")"
   ]
  },
  {
   "cell_type": "markdown",
   "id": "90dd4281",
   "metadata": {},
   "source": [
    "# Visualize Training Process\n",
    "\n",
    "To better understand the training process, let's plot the training and validation accuracy and loss over the epochs.\n"
   ]
  },
  {
   "cell_type": "code",
   "execution_count": 9,
   "id": "11da3384",
   "metadata": {},
   "outputs": [
    {
     "data": {
      "image/png": "[encoded data removed]",
      "text/plain": [
       "<Figure size 1200x400 with 2 Axes>"
      ]
     },
     "metadata": {},
     "output_type": "display_data"
    }
   ],
   "source": [
    "import matplotlib.pyplot as plt\n",
    "\n",
    "def plot_training_history(history):\n",
    "    # Plot training & validation accuracy values\n",
    "    plt.figure(figsize=(12, 4))\n",
    "\n",
    "    # Plot accuracy\n",
    "    plt.subplot(1, 2, 1)\n",
    "    plt.plot(history.history['accuracy'], label='Training Accuracy')\n",
    "    plt.plot(history.history['val_accuracy'], label='Validation Accuracy')\n",
    "    plt.title('Model Accuracy')\n",
    "    plt.xlabel('Epoch')\n",
    "    plt.ylabel('Accuracy')\n",
    "    plt.legend(loc='upper left')\n",
    "\n",
    "    # Plot loss\n",
    "    plt.subplot(1, 2, 2)\n",
    "    plt.plot(history.history['loss'], label='Training Loss')\n",
    "    plt.plot(history.history['val_loss'], label='Validation Loss')\n",
    "    plt.title('Model Loss')\n",
    "    plt.xlabel('Epoch')\n",
    "    plt.ylabel('Loss')\n",
    "    plt.legend(loc='upper left')\n",
    "\n",
    "    plt.tight_layout()\n",
    "    plt.show()\n",
    "\n",
    "# Call the function to plot the training history\n",
    "plot_training_history(history)"
   ]
  }
 ],
 "metadata": {
  "kernelspec": {
   "display_name": "Python 3 (ipykernel)",
   "language": "python",
   "name": "python3"
  },
  "language_info": {
   "codemirror_mode": {
    "name": "ipython",
    "version": 3
   },
   "file_extension": ".py",
   "mimetype": "text/x-python",
   "name": "python",
   "nbconvert_exporter": "python",
   "pygments_lexer": "ipython3",
   "version": "3.10.12"
  }
 },
 "nbformat": 4,
 "nbformat_minor": 5
}
