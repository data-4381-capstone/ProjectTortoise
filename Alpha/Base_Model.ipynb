{
 "cells": [
  {
   "cell_type": "markdown",
   "id": "f5b493bb",
   "metadata": {},
   "source": [
    "# Create Directories and Dataset Splits"
   ]
  },
  {
   "cell_type": "code",
   "execution_count": 1,
   "id": "e7e3c52d",
   "metadata": {},
   "outputs": [
    {
     "data": {
      "text/plain": [
       "'/home/exh4748/ProjectTortoise/ALPHA PHASE'"
      ]
     },
     "execution_count": 1,
     "metadata": {},
     "output_type": "execute_result"
    }
   ],
   "source": [
    "%pwd"
   ]
  },
  {
   "cell_type": "code",
   "execution_count": 2,
   "id": "d113c389",
   "metadata": {},
   "outputs": [
    {
     "name": "stderr",
     "output_type": "stream",
     "text": [
      "/usr/local/anaconda3/lib/python3.9/site-packages/scipy/__init__.py:155: UserWarning: A NumPy version >=1.18.5 and <1.25.0 is required for this version of SciPy (detected version 1.26.4\n",
      "  warnings.warn(f\"A NumPy version >={np_minversion} and <{np_maxversion}\"\n",
      "2024-11-18 16:53:39.207948: E external/local_xla/xla/stream_executor/cuda/cuda_dnn.cc:9261] Unable to register cuDNN factory: Attempting to register factory for plugin cuDNN when one has already been registered\n",
      "2024-11-18 16:53:39.207979: E external/local_xla/xla/stream_executor/cuda/cuda_fft.cc:607] Unable to register cuFFT factory: Attempting to register factory for plugin cuFFT when one has already been registered\n",
      "2024-11-18 16:53:39.208613: E external/local_xla/xla/stream_executor/cuda/cuda_blas.cc:1515] Unable to register cuBLAS factory: Attempting to register factory for plugin cuBLAS when one has already been registered\n",
      "2024-11-18 16:53:39.212142: I tensorflow/core/platform/cpu_feature_guard.cc:182] This TensorFlow binary is optimized to use available CPU instructions in performance-critical operations.\n",
      "To enable the following instructions: AVX2 FMA, in other operations, rebuild TensorFlow with the appropriate compiler flags.\n",
      "2024-11-18 16:53:39.720941: W tensorflow/compiler/tf2tensorrt/utils/py_utils.cc:38] TF-TRT Warning: Could not find TensorRT\n"
     ]
    },
    {
     "name": "stdout",
     "output_type": "stream",
     "text": [
      "Dataset split into train, validation, and test sets successfully.\n"
     ]
    }
   ],
   "source": [
    "import os\n",
    "import shutil\n",
    "from sklearn.model_selection import train_test_split\n",
    "from tensorflow.keras.preprocessing.image import ImageDataGenerator\n",
    "from PIL import Image\n",
    "import numpy as np\n",
    "\n",
    "# Paths to your original dataset directory and where you want to save the splits\n",
    "data_dir = '/home/exh4748/ProjectTortoise/data'  # Original dataset path\n",
    "output_dir = '/home/exh4748/ProjectTortoise/split_data'  # Output directory\n",
    "\n",
    "# Define ratios for the splits\n",
    "train_ratio = 0.7\n",
    "val_ratio = 0.15  # The rest will be for the test set\n",
    "\n",
    "# Create the output directories for train, validation, and test\n",
    "train_dir = os.path.join(output_dir, 'train')\n",
    "val_dir = os.path.join(output_dir, 'val')\n",
    "test_dir = os.path.join(output_dir, 'test')\n",
    "\n",
    "os.makedirs(train_dir, exist_ok=True)\n",
    "os.makedirs(val_dir, exist_ok=True)\n",
    "os.makedirs(test_dir, exist_ok=True)\n",
    "\n",
    "# Minimum number of images required for each class\n",
    "min_images = 100\n",
    "\n",
    "# Data augmentation settings\n",
    "datagen = ImageDataGenerator(\n",
    "    rotation_range=40,\n",
    "    width_shift_range=0.2,\n",
    "    height_shift_range=0.2,\n",
    "    shear_range=0.2,\n",
    "    zoom_range=0.2,\n",
    "    horizontal_flip=True,\n",
    "    fill_mode='nearest'\n",
    ")\n",
    "\n",
    "# Function to augment images in a class directory to reach min_images\n",
    "def augment_images(class_name, class_path, target_count):\n",
    "    image_files = [f for f in os.listdir(class_path) if os.path.isfile(os.path.join(class_path, f))]\n",
    "    num_images = len(image_files)\n",
    "\n",
    "    if num_images >= target_count:\n",
    "        return  # No need for augmentation\n",
    "\n",
    "    for img_file in image_files:\n",
    "        img_path = os.path.join(class_path, img_file)\n",
    "        img = Image.open(img_path)\n",
    "        x = np.array(img)\n",
    "        x = x.reshape((1,) + x.shape)  # Reshape for the ImageDataGenerator\n",
    "\n",
    "        i = 0\n",
    "        for batch in datagen.flow(x, batch_size=1, save_to_dir=class_path, save_prefix=class_name, save_format='jpeg'):\n",
    "            i += 1\n",
    "            num_images += 1\n",
    "            if num_images >= target_count:\n",
    "                break\n",
    "\n",
    "# Function to split images into train, validation, and test sets\n",
    "def split_dataset(class_name, class_path, output_dir):\n",
    "    image_files = [f for f in os.listdir(class_path) if os.path.isfile(os.path.join(class_path, f))]\n",
    "\n",
    "    # Check if augmentation is needed to reach minimum image count\n",
    "    if len(image_files) < min_images:\n",
    "        augment_images(class_name, class_path, min_images)\n",
    "        image_files = [f for f in os.listdir(class_path) if os.path.isfile(os.path.join(class_path, f))]  # Refresh file list\n",
    "\n",
    "    # Split into train and temp (val+test) sets first\n",
    "    train_files, temp_files = train_test_split(image_files, test_size=1 - train_ratio, random_state=42)\n",
    "    \n",
    "    # Split the temp set into validation and test sets\n",
    "    val_files, test_files = train_test_split(temp_files, test_size=val_ratio/(val_ratio + (1 - train_ratio - val_ratio)), random_state=42)\n",
    "\n",
    "    # Function to copy files to the new folder structure\n",
    "    def copy_files(file_list, target_dir):\n",
    "        class_target_dir = os.path.join(target_dir, class_name)\n",
    "        os.makedirs(class_target_dir, exist_ok=True)\n",
    "        for file in file_list:\n",
    "            shutil.copy(os.path.join(class_path, file), os.path.join(class_target_dir, file))\n",
    "\n",
    "    # Copy the files\n",
    "    copy_files(train_files, train_dir)\n",
    "    copy_files(val_files, val_dir)\n",
    "    copy_files(test_files, test_dir)\n",
    "\n",
    "# Loop through each class directory and apply the split\n",
    "for class_name in os.listdir(data_dir):\n",
    "    class_path = os.path.join(data_dir, class_name)\n",
    "    if os.path.isdir(class_path):  # Only process directories (ignore other files if any)\n",
    "        split_dataset(class_name, class_path, output_dir)\n",
    "\n",
    "print(\"Dataset split into train, validation, and test sets successfully.\")"
   ]
  },
  {
   "cell_type": "code",
   "execution_count": 3,
   "id": "f5eb0a9b",
   "metadata": {},
   "outputs": [
    {
     "name": "stdout",
     "output_type": "stream",
     "text": [
      "Checking training directory:\n",
      "Class 'kobe' in '/home/exh4748/ProjectTortoise/split_data/train' has 86 images.\n",
      "Class 'giannis' in '/home/exh4748/ProjectTortoise/split_data/train' has 78 images.\n",
      "Class 'steph' in '/home/exh4748/ProjectTortoise/split_data/train' has 84 images.\n",
      "Class 'steph_augmented' in '/home/exh4748/ProjectTortoise/split_data/train' has 101 images.\n",
      "Class 'timmy_augmented' in '/home/exh4748/ProjectTortoise/split_data/train' has 129 images.\n",
      "Class 'timmy' in '/home/exh4748/ProjectTortoise/split_data/train' has 79 images.\n",
      "Class 'efaz' in '/home/exh4748/ProjectTortoise/split_data/train' has 93 images.\n",
      "Class 'giannis_augmented' in '/home/exh4748/ProjectTortoise/split_data/train' has 127 images.\n",
      "Class 'efaz_augmented' in '/home/exh4748/ProjectTortoise/split_data/train' has 127 images.\n",
      "Class 'ahmed_augmented' in '/home/exh4748/ProjectTortoise/split_data/train' has 151 images.\n",
      "Class 'jokic_augmented' in '/home/exh4748/ProjectTortoise/split_data/train' has 110 images.\n",
      "Class 'ahmed' in '/home/exh4748/ProjectTortoise/split_data/train' has 84 images.\n",
      "Class 'kobe_augmented' in '/home/exh4748/ProjectTortoise/split_data/train' has 113 images.\n",
      "Class 'jokic' in '/home/exh4748/ProjectTortoise/split_data/train' has 83 images.\n",
      "\n",
      "Checking validation directory:\n",
      "Class 'kobe' in '/home/exh4748/ProjectTortoise/split_data/val' has 23 images.\n",
      "Class 'giannis' in '/home/exh4748/ProjectTortoise/split_data/val' has 21 images.\n",
      "Class 'steph' in '/home/exh4748/ProjectTortoise/split_data/val' has 22 images.\n",
      "Class 'steph_augmented' in '/home/exh4748/ProjectTortoise/split_data/val' has 29 images.\n",
      "Class 'timmy_augmented' in '/home/exh4748/ProjectTortoise/split_data/val' has 41 images.\n",
      "Class 'timmy' in '/home/exh4748/ProjectTortoise/split_data/val' has 21 images.\n",
      "Class 'efaz' in '/home/exh4748/ProjectTortoise/split_data/val' has 28 images.\n",
      "Class 'giannis_augmented' in '/home/exh4748/ProjectTortoise/split_data/val' has 40 images.\n",
      "Class 'efaz_augmented' in '/home/exh4748/ProjectTortoise/split_data/val' has 40 images.\n",
      "Class 'ahmed_augmented' in '/home/exh4748/ProjectTortoise/split_data/val' has 49 images.\n",
      "Class 'jokic_augmented' in '/home/exh4748/ProjectTortoise/split_data/val' has 30 images.\n",
      "Class 'ahmed' in '/home/exh4748/ProjectTortoise/split_data/val' has 23 images.\n",
      "Class 'kobe_augmented' in '/home/exh4748/ProjectTortoise/split_data/val' has 32 images.\n",
      "Class 'jokic' in '/home/exh4748/ProjectTortoise/split_data/val' has 21 images.\n",
      "\n",
      "Checking test directory:\n",
      "Class 'kobe' in '/home/exh4748/ProjectTortoise/split_data/test' has 22 images.\n",
      "Class 'giannis' in '/home/exh4748/ProjectTortoise/split_data/test' has 21 images.\n",
      "Class 'steph' in '/home/exh4748/ProjectTortoise/split_data/test' has 23 images.\n",
      "Class 'steph_augmented' in '/home/exh4748/ProjectTortoise/split_data/test' has 31 images.\n",
      "Class 'timmy_augmented' in '/home/exh4748/ProjectTortoise/split_data/test' has 36 images.\n",
      "Class 'timmy' in '/home/exh4748/ProjectTortoise/split_data/test' has 21 images.\n",
      "Class 'efaz' in '/home/exh4748/ProjectTortoise/split_data/test' has 29 images.\n",
      "Class 'giannis_augmented' in '/home/exh4748/ProjectTortoise/split_data/test' has 38 images.\n",
      "Class 'efaz_augmented' in '/home/exh4748/ProjectTortoise/split_data/test' has 42 images.\n",
      "Class 'ahmed_augmented' in '/home/exh4748/ProjectTortoise/split_data/test' has 50 images.\n",
      "Class 'jokic_augmented' in '/home/exh4748/ProjectTortoise/split_data/test' has 33 images.\n",
      "Class 'ahmed' in '/home/exh4748/ProjectTortoise/split_data/test' has 23 images.\n",
      "Class 'kobe_augmented' in '/home/exh4748/ProjectTortoise/split_data/test' has 35 images.\n",
      "Class 'jokic' in '/home/exh4748/ProjectTortoise/split_data/test' has 23 images.\n",
      "\n",
      "All classes in each split have at least 10 images.\n"
     ]
    }
   ],
   "source": [
    "import os\n",
    "\n",
    "# Function to count images in each class folder\n",
    "def check_min_images(directory, min_images=10):\n",
    "    all_classes_meet_min = True\n",
    "    for class_name in os.listdir(directory):\n",
    "        class_path = os.path.join(directory, class_name)\n",
    "        if os.path.isdir(class_path):\n",
    "            num_images = len([f for f in os.listdir(class_path) if os.path.isfile(os.path.join(class_path, f))])\n",
    "            print(f\"Class '{class_name}' in '{directory}' has {num_images} images.\")\n",
    "            if num_images < min_images:\n",
    "                print(f\"Warning: Class '{class_name}' in '{directory}' has fewer than {min_images} images!\")\n",
    "                all_classes_meet_min = False\n",
    "    return all_classes_meet_min\n",
    "\n",
    "# Check the train, validation, and test directories\n",
    "print(\"Checking training directory:\")\n",
    "train_check = check_min_images(train_dir)\n",
    "print(\"\\nChecking validation directory:\")\n",
    "val_check = check_min_images(val_dir)\n",
    "print(\"\\nChecking test directory:\")\n",
    "test_check = check_min_images(test_dir)\n",
    "\n",
    "# Overall check\n",
    "if train_check and val_check and test_check:\n",
    "    print(\"\\nAll classes in each split have at least 10 images.\")\n",
    "else:\n",
    "    print(\"\\nSome classes in one or more splits have fewer than 10 images.\")"
   ]
  },
  {
   "cell_type": "code",
   "execution_count": 4,
   "id": "c82a2a0d",
   "metadata": {},
   "outputs": [
    {
     "name": "stdout",
     "output_type": "stream",
     "text": [
      "Found 1445 images belonging to 14 classes.\n",
      "Found 420 images belonging to 14 classes.\n",
      "Found 427 images belonging to 14 classes.\n"
     ]
    }
   ],
   "source": [
    "from tensorflow.keras.preprocessing.image import ImageDataGenerator\n",
    "\n",
    "# Paths to your split dataset directories\n",
    "train_dir = '/home/exh4748/ProjectTortoise/split_data/train'\n",
    "val_dir = '/home/exh4748/ProjectTortoise/split_data/val'\n",
    "test_dir = '/home/exh4748/ProjectTortoise/split_data/test'\n",
    "\n",
    "# Data augmentation for the training set\n",
    "train_datagen = ImageDataGenerator(\n",
    "    rescale=1./255,              # Normalize pixel values to [0, 1]\n",
    "    rotation_range=40,\n",
    "    width_shift_range=0.2,\n",
    "    height_shift_range=0.2,\n",
    "    shear_range=0.2,\n",
    "    zoom_range=0.2,\n",
    "    horizontal_flip=True,\n",
    "    fill_mode='nearest'\n",
    ")\n",
    "\n",
    "# Only rescale for validation and test sets, no augmentation\n",
    "val_datagen = ImageDataGenerator(rescale=1./255)\n",
    "test_datagen = ImageDataGenerator(rescale=1./255)\n",
    "\n",
    "# Create the data loaders (generators)\n",
    "train_generator = train_datagen.flow_from_directory(\n",
    "    train_dir,\n",
    "    target_size=(224, 224),  # Adjust to match your model's expected input size, e.g., VGG16 expects 224x224\n",
    "    batch_size=32,\n",
    "    class_mode='categorical'  # Set to 'categorical' for multi-class classification\n",
    ")\n",
    "\n",
    "val_generator = val_datagen.flow_from_directory(\n",
    "    val_dir,\n",
    "    target_size=(224, 224),\n",
    "    batch_size=32,\n",
    "    class_mode='categorical'\n",
    ")\n",
    "\n",
    "test_generator = test_datagen.flow_from_directory(\n",
    "    test_dir,\n",
    "    target_size=(224, 224),\n",
    "    batch_size=32,\n",
    "    class_mode='categorical',\n",
    "    shuffle=False  # Set shuffle to False for the test set to maintain order for evaluation\n",
    ")"
   ]
  },
  {
   "cell_type": "markdown",
   "id": "a76c8925",
   "metadata": {},
   "source": [
    "# GPU Server Things"
   ]
  },
  {
   "cell_type": "code",
   "execution_count": 5,
   "id": "f1d15307",
   "metadata": {},
   "outputs": [
    {
     "name": "stdout",
     "output_type": "stream",
     "text": [
      "Num GPUs Available:  4\n"
     ]
    },
    {
     "name": "stderr",
     "output_type": "stream",
     "text": [
      "2024-11-18 16:53:46.683868: I external/local_xla/xla/stream_executor/cuda/cuda_executor.cc:901] successful NUMA node read from SysFS had negative value (-1), but there must be at least one NUMA node, so returning NUMA node zero. See more at https://github.com/torvalds/linux/blob/v6.0/Documentation/ABI/testing/sysfs-bus-pci#L344-L355\n",
      "2024-11-18 16:53:46.685123: I external/local_xla/xla/stream_executor/cuda/cuda_executor.cc:901] successful NUMA node read from SysFS had negative value (-1), but there must be at least one NUMA node, so returning NUMA node zero. See more at https://github.com/torvalds/linux/blob/v6.0/Documentation/ABI/testing/sysfs-bus-pci#L344-L355\n",
      "2024-11-18 16:53:46.686396: I external/local_xla/xla/stream_executor/cuda/cuda_executor.cc:901] successful NUMA node read from SysFS had negative value (-1), but there must be at least one NUMA node, so returning NUMA node zero. See more at https://github.com/torvalds/linux/blob/v6.0/Documentation/ABI/testing/sysfs-bus-pci#L344-L355\n",
      "2024-11-18 16:53:46.687662: I external/local_xla/xla/stream_executor/cuda/cuda_executor.cc:901] successful NUMA node read from SysFS had negative value (-1), but there must be at least one NUMA node, so returning NUMA node zero. See more at https://github.com/torvalds/linux/blob/v6.0/Documentation/ABI/testing/sysfs-bus-pci#L344-L355\n",
      "2024-11-18 16:53:46.702937: I external/local_xla/xla/stream_executor/cuda/cuda_executor.cc:901] successful NUMA node read from SysFS had negative value (-1), but there must be at least one NUMA node, so returning NUMA node zero. See more at https://github.com/torvalds/linux/blob/v6.0/Documentation/ABI/testing/sysfs-bus-pci#L344-L355\n",
      "2024-11-18 16:53:46.704187: I external/local_xla/xla/stream_executor/cuda/cuda_executor.cc:901] successful NUMA node read from SysFS had negative value (-1), but there must be at least one NUMA node, so returning NUMA node zero. See more at https://github.com/torvalds/linux/blob/v6.0/Documentation/ABI/testing/sysfs-bus-pci#L344-L355\n",
      "2024-11-18 16:53:46.705431: I external/local_xla/xla/stream_executor/cuda/cuda_executor.cc:901] successful NUMA node read from SysFS had negative value (-1), but there must be at least one NUMA node, so returning NUMA node zero. See more at https://github.com/torvalds/linux/blob/v6.0/Documentation/ABI/testing/sysfs-bus-pci#L344-L355\n",
      "2024-11-18 16:53:46.706679: I external/local_xla/xla/stream_executor/cuda/cuda_executor.cc:901] successful NUMA node read from SysFS had negative value (-1), but there must be at least one NUMA node, so returning NUMA node zero. See more at https://github.com/torvalds/linux/blob/v6.0/Documentation/ABI/testing/sysfs-bus-pci#L344-L355\n",
      "2024-11-18 16:53:46.707896: I external/local_xla/xla/stream_executor/cuda/cuda_executor.cc:901] successful NUMA node read from SysFS had negative value (-1), but there must be at least one NUMA node, so returning NUMA node zero. See more at https://github.com/torvalds/linux/blob/v6.0/Documentation/ABI/testing/sysfs-bus-pci#L344-L355\n",
      "2024-11-18 16:53:46.709081: I external/local_xla/xla/stream_executor/cuda/cuda_executor.cc:901] successful NUMA node read from SysFS had negative value (-1), but there must be at least one NUMA node, so returning NUMA node zero. See more at https://github.com/torvalds/linux/blob/v6.0/Documentation/ABI/testing/sysfs-bus-pci#L344-L355\n",
      "2024-11-18 16:53:46.710305: I external/local_xla/xla/stream_executor/cuda/cuda_executor.cc:901] successful NUMA node read from SysFS had negative value (-1), but there must be at least one NUMA node, so returning NUMA node zero. See more at https://github.com/torvalds/linux/blob/v6.0/Documentation/ABI/testing/sysfs-bus-pci#L344-L355\n",
      "2024-11-18 16:53:46.711527: I external/local_xla/xla/stream_executor/cuda/cuda_executor.cc:901] successful NUMA node read from SysFS had negative value (-1), but there must be at least one NUMA node, so returning NUMA node zero. See more at https://github.com/torvalds/linux/blob/v6.0/Documentation/ABI/testing/sysfs-bus-pci#L344-L355\n"
     ]
    }
   ],
   "source": [
    "import tensorflow as tf\n",
    "\n",
    "# Check if any GPU is detected\n",
    "print(\"Num GPUs Available: \", len(tf.config.list_physical_devices('GPU')))"
   ]
  },
  {
   "cell_type": "code",
   "execution_count": 6,
   "id": "7d809dda",
   "metadata": {},
   "outputs": [
    {
     "name": "stdout",
     "output_type": "stream",
     "text": [
      "Using GPU: PhysicalDevice(name='/physical_device:GPU:0', device_type='GPU')\n"
     ]
    }
   ],
   "source": [
    "gpus = tf.config.list_physical_devices('GPU')\n",
    "if gpus:\n",
    "    try:\n",
    "        # Set TensorFlow to use only the first GPU\n",
    "        tf.config.set_visible_devices(gpus[0], 'GPU')\n",
    "        print(f\"Using GPU: {gpus[0]}\")\n",
    "    except RuntimeError as e:\n",
    "        print(e)"
   ]
  },
  {
   "cell_type": "code",
   "execution_count": 7,
   "id": "145637dc",
   "metadata": {},
   "outputs": [],
   "source": [
    "for gpu in gpus:\n",
    "    tf.config.experimental.set_memory_growth(gpu, True)"
   ]
  },
  {
   "cell_type": "code",
   "execution_count": 8,
   "id": "4d217043",
   "metadata": {},
   "outputs": [
    {
     "name": "stderr",
     "output_type": "stream",
     "text": [
      "2024-11-18 16:54:01.848282: I external/local_xla/xla/stream_executor/cuda/cuda_executor.cc:901] successful NUMA node read from SysFS had negative value (-1), but there must be at least one NUMA node, so returning NUMA node zero. See more at https://github.com/torvalds/linux/blob/v6.0/Documentation/ABI/testing/sysfs-bus-pci#L344-L355\n",
      "2024-11-18 16:54:01.850492: I external/local_xla/xla/stream_executor/cuda/cuda_executor.cc:901] successful NUMA node read from SysFS had negative value (-1), but there must be at least one NUMA node, so returning NUMA node zero. See more at https://github.com/torvalds/linux/blob/v6.0/Documentation/ABI/testing/sysfs-bus-pci#L344-L355\n",
      "2024-11-18 16:54:01.852063: I external/local_xla/xla/stream_executor/cuda/cuda_executor.cc:901] successful NUMA node read from SysFS had negative value (-1), but there must be at least one NUMA node, so returning NUMA node zero. See more at https://github.com/torvalds/linux/blob/v6.0/Documentation/ABI/testing/sysfs-bus-pci#L344-L355\n",
      "2024-11-18 16:54:01.953342: I external/local_xla/xla/stream_executor/cuda/cuda_executor.cc:901] successful NUMA node read from SysFS had negative value (-1), but there must be at least one NUMA node, so returning NUMA node zero. See more at https://github.com/torvalds/linux/blob/v6.0/Documentation/ABI/testing/sysfs-bus-pci#L344-L355\n",
      "2024-11-18 16:54:01.954258: I external/local_xla/xla/stream_executor/cuda/cuda_executor.cc:901] successful NUMA node read from SysFS had negative value (-1), but there must be at least one NUMA node, so returning NUMA node zero. See more at https://github.com/torvalds/linux/blob/v6.0/Documentation/ABI/testing/sysfs-bus-pci#L344-L355\n",
      "2024-11-18 16:54:01.955157: I external/local_xla/xla/stream_executor/cuda/cuda_executor.cc:901] successful NUMA node read from SysFS had negative value (-1), but there must be at least one NUMA node, so returning NUMA node zero. See more at https://github.com/torvalds/linux/blob/v6.0/Documentation/ABI/testing/sysfs-bus-pci#L344-L355\n",
      "2024-11-18 16:54:01.956030: I tensorflow/core/common_runtime/gpu/gpu_device.cc:1929] Created device /job:localhost/replica:0/task:0/device:GPU:0 with 43516 MB memory:  -> device: 0, name: NVIDIA RTX 6000 Ada Generation, pci bus id: 0000:01:00.0, compute capability: 8.9\n"
     ]
    },
    {
     "name": "stdout",
     "output_type": "stream",
     "text": [
      "Model is set to use GPU for computations.\n"
     ]
    }
   ],
   "source": [
    "import tensorflow as tf\n",
    "from tensorflow.keras.applications import VGG16\n",
    "from tensorflow.keras.models import Model\n",
    "from tensorflow.keras.layers import Dense, Flatten\n",
    "from tensorflow.keras.optimizers import Adam\n",
    "\n",
    "# Place the model creation and training within a GPU context\n",
    "with tf.device('/GPU:0'):  # Replace '0' with the GPU ID if using a different GPU\n",
    "    # Load the base model\n",
    "    base_model = VGG16(weights='imagenet', include_top=False, input_shape=(224, 224, 3))\n",
    "\n",
    "    # Freeze base model layers\n",
    "    for layer in base_model.layers:\n",
    "        layer.trainable = False\n",
    "\n",
    "    # Add custom layers\n",
    "    x = base_model.output\n",
    "    x = Flatten()(x)\n",
    "    x = Dense(256, activation='relu')(x)\n",
    "    predictions = Dense(14, activation='softmax')(x)  # Adjust to 14 classes\n",
    "\n",
    "    # Create the final model\n",
    "    model = Model(inputs=base_model.input, outputs=predictions)\n",
    "\n",
    "    # Compile the model\n",
    "    model.compile(optimizer=Adam(learning_rate=0.0001),\n",
    "                  loss='categorical_crossentropy',\n",
    "                  metrics=['accuracy'])\n",
    "\n",
    "    print(\"Model is set to use GPU for computations.\")"
   ]
  },
  {
   "cell_type": "code",
   "execution_count": 9,
   "id": "ed018092",
   "metadata": {},
   "outputs": [
    {
     "name": "stdout",
     "output_type": "stream",
     "text": [
      "Model: \"model\"\n",
      "_________________________________________________________________\n",
      " Layer (type)                Output Shape              Param #   \n",
      "=================================================================\n",
      " input_1 (InputLayer)        [(None, 224, 224, 3)]     0         \n",
      "                                                                 \n",
      " block1_conv1 (Conv2D)       (None, 224, 224, 64)      1792      \n",
      "                                                                 \n",
      " block1_conv2 (Conv2D)       (None, 224, 224, 64)      36928     \n",
      "                                                                 \n",
      " block1_pool (MaxPooling2D)  (None, 112, 112, 64)      0         \n",
      "                                                                 \n",
      " block2_conv1 (Conv2D)       (None, 112, 112, 128)     73856     \n",
      "                                                                 \n",
      " block2_conv2 (Conv2D)       (None, 112, 112, 128)     147584    \n",
      "                                                                 \n",
      " block2_pool (MaxPooling2D)  (None, 56, 56, 128)       0         \n",
      "                                                                 \n",
      " block3_conv1 (Conv2D)       (None, 56, 56, 256)       295168    \n",
      "                                                                 \n",
      " block3_conv2 (Conv2D)       (None, 56, 56, 256)       590080    \n",
      "                                                                 \n",
      " block3_conv3 (Conv2D)       (None, 56, 56, 256)       590080    \n",
      "                                                                 \n",
      " block3_pool (MaxPooling2D)  (None, 28, 28, 256)       0         \n",
      "                                                                 \n",
      " block4_conv1 (Conv2D)       (None, 28, 28, 512)       1180160   \n",
      "                                                                 \n",
      " block4_conv2 (Conv2D)       (None, 28, 28, 512)       2359808   \n",
      "                                                                 \n",
      " block4_conv3 (Conv2D)       (None, 28, 28, 512)       2359808   \n",
      "                                                                 \n",
      " block4_pool (MaxPooling2D)  (None, 14, 14, 512)       0         \n",
      "                                                                 \n",
      " block5_conv1 (Conv2D)       (None, 14, 14, 512)       2359808   \n",
      "                                                                 \n",
      " block5_conv2 (Conv2D)       (None, 14, 14, 512)       2359808   \n",
      "                                                                 \n",
      " block5_conv3 (Conv2D)       (None, 14, 14, 512)       2359808   \n",
      "                                                                 \n",
      " block5_pool (MaxPooling2D)  (None, 7, 7, 512)         0         \n",
      "                                                                 \n",
      " flatten (Flatten)           (None, 25088)             0         \n",
      "                                                                 \n",
      " dense (Dense)               (None, 256)               6422784   \n",
      "                                                                 \n",
      " dense_1 (Dense)             (None, 14)                3598      \n",
      "                                                                 \n",
      "=================================================================\n",
      "Total params: 21141070 (80.65 MB)\n",
      "Trainable params: 6426382 (24.51 MB)\n",
      "Non-trainable params: 14714688 (56.13 MB)\n",
      "_________________________________________________________________\n"
     ]
    }
   ],
   "source": [
    "model.summary()"
   ]
  },
  {
   "cell_type": "markdown",
   "id": "6b076087",
   "metadata": {},
   "source": [
    "# Model Compiling"
   ]
  },
  {
   "cell_type": "code",
   "execution_count": 11,
   "id": "cc2984e9",
   "metadata": {},
   "outputs": [
    {
     "name": "stdout",
     "output_type": "stream",
     "text": [
      "Epoch 1/20\n",
      "46/46 [==============================] - 9s 188ms/step - loss: 0.5510 - accuracy: 0.8111 - val_loss: 0.4360 - val_accuracy: 0.8214\n",
      "Epoch 2/20\n",
      "46/46 [==============================] - 9s 187ms/step - loss: 0.5153 - accuracy: 0.8180 - val_loss: 0.4313 - val_accuracy: 0.8429\n",
      "Epoch 3/20\n",
      "46/46 [==============================] - 9s 189ms/step - loss: 0.5310 - accuracy: 0.8021 - val_loss: 0.4014 - val_accuracy: 0.8452\n",
      "Epoch 4/20\n",
      "46/46 [==============================] - 9s 193ms/step - loss: 0.5224 - accuracy: 0.8118 - val_loss: 0.4452 - val_accuracy: 0.8262\n",
      "Epoch 5/20\n",
      "46/46 [==============================] - 9s 194ms/step - loss: 0.4659 - accuracy: 0.8318 - val_loss: 0.4431 - val_accuracy: 0.8357\n",
      "Epoch 6/20\n",
      "46/46 [==============================] - 9s 192ms/step - loss: 0.4929 - accuracy: 0.8187 - val_loss: 0.3874 - val_accuracy: 0.8476\n",
      "Epoch 7/20\n",
      "46/46 [==============================] - 9s 189ms/step - loss: 0.4371 - accuracy: 0.8388 - val_loss: 0.3986 - val_accuracy: 0.8452\n",
      "Epoch 8/20\n",
      "46/46 [==============================] - 9s 195ms/step - loss: 0.4449 - accuracy: 0.8367 - val_loss: 0.3767 - val_accuracy: 0.8333\n",
      "Epoch 9/20\n",
      "46/46 [==============================] - 9s 186ms/step - loss: 0.4332 - accuracy: 0.8367 - val_loss: 0.4155 - val_accuracy: 0.8310\n",
      "Epoch 10/20\n",
      "46/46 [==============================] - 9s 187ms/step - loss: 0.4297 - accuracy: 0.8291 - val_loss: 0.4029 - val_accuracy: 0.8262\n",
      "Epoch 11/20\n",
      "46/46 [==============================] - 9s 190ms/step - loss: 0.4349 - accuracy: 0.8367 - val_loss: 0.3737 - val_accuracy: 0.8476\n",
      "Epoch 12/20\n",
      "46/46 [==============================] - 9s 193ms/step - loss: 0.4432 - accuracy: 0.8325 - val_loss: 0.4124 - val_accuracy: 0.8452\n",
      "Epoch 13/20\n",
      "46/46 [==============================] - 9s 190ms/step - loss: 0.4362 - accuracy: 0.8208 - val_loss: 0.4073 - val_accuracy: 0.8310\n",
      "Epoch 14/20\n",
      "46/46 [==============================] - 9s 184ms/step - loss: 0.4209 - accuracy: 0.8332 - val_loss: 0.3593 - val_accuracy: 0.8524\n",
      "Epoch 15/20\n",
      "46/46 [==============================] - 9s 189ms/step - loss: 0.4737 - accuracy: 0.8263 - val_loss: 0.3768 - val_accuracy: 0.8500\n",
      "Epoch 16/20\n",
      "46/46 [==============================] - 9s 191ms/step - loss: 0.3992 - accuracy: 0.8491 - val_loss: 0.3411 - val_accuracy: 0.8643\n",
      "Epoch 17/20\n",
      "46/46 [==============================] - 9s 189ms/step - loss: 0.4178 - accuracy: 0.8401 - val_loss: 0.4358 - val_accuracy: 0.8143\n",
      "Epoch 18/20\n",
      "46/46 [==============================] - 9s 192ms/step - loss: 0.3727 - accuracy: 0.8581 - val_loss: 0.3417 - val_accuracy: 0.8619\n",
      "Epoch 19/20\n",
      "46/46 [==============================] - 9s 190ms/step - loss: 0.3684 - accuracy: 0.8588 - val_loss: 0.3421 - val_accuracy: 0.8548\n",
      "Epoch 20/20\n",
      "46/46 [==============================] - 9s 188ms/step - loss: 0.3816 - accuracy: 0.8561 - val_loss: 0.3702 - val_accuracy: 0.8357\n"
     ]
    }
   ],
   "source": [
    "history = model.fit(\n",
    "    train_generator,\n",
    "    epochs=20,\n",
    "    validation_data=val_generator\n",
    ")"
   ]
  },
  {
   "cell_type": "code",
   "execution_count": 12,
   "id": "408833d4",
   "metadata": {},
   "outputs": [
    {
     "name": "stdout",
     "output_type": "stream",
     "text": [
      "14/14 [==============================] - 1s 49ms/step - loss: 0.3879 - accuracy: 0.8407\n",
      "Test Loss: 0.387937992811203\n",
      "Test Accuracy: 84.07%\n"
     ]
    }
   ],
   "source": [
    "test_loss, test_accuracy = model.evaluate(test_generator)\n",
    "print(f\"Test Loss: {test_loss}\")\n",
    "print(f\"Test Accuracy: {test_accuracy * 100:.2f}%\")"
   ]
  },
  {
   "cell_type": "code",
   "execution_count": 13,
   "id": "fed2c297",
   "metadata": {},
   "outputs": [
    {
     "data": {
      "image/png": "[encoded data removed]",
      "text/plain": [
       "<Figure size 1200x400 with 2 Axes>"
      ]
     },
     "metadata": {},
     "output_type": "display_data"
    }
   ],
   "source": [
    "import matplotlib.pyplot as plt\n",
    "\n",
    "def plot_training_history(history):\n",
    "    # Plot training & validation accuracy values\n",
    "    plt.figure(figsize=(12, 4))\n",
    "\n",
    "    # Plot accuracy\n",
    "    plt.subplot(1, 2, 1)\n",
    "    plt.plot(history.history['accuracy'], label='Training Accuracy')\n",
    "    plt.plot(history.history['val_accuracy'], label='Validation Accuracy')\n",
    "    plt.title('Model Accuracy')\n",
    "    plt.xlabel('Epoch')\n",
    "    plt.ylabel('Accuracy')\n",
    "    plt.legend(loc='upper left')\n",
    "\n",
    "    # Plot loss\n",
    "    plt.subplot(1, 2, 2)\n",
    "    plt.plot(history.history['loss'], label='Training Loss')\n",
    "    plt.plot(history.history['val_loss'], label='Validation Loss')\n",
    "    plt.title('Model Loss')\n",
    "    plt.xlabel('Epoch')\n",
    "    plt.ylabel('Loss')\n",
    "    plt.legend(loc='upper left')\n",
    "\n",
    "    plt.tight_layout()\n",
    "    plt.show()\n",
    "\n",
    "# Call the function to plot the training history\n",
    "plot_training_history(history)"
   ]
  },
  {
   "cell_type": "code",
   "execution_count": 14,
   "id": "0090eddb",
   "metadata": {},
   "outputs": [
    {
     "name": "stderr",
     "output_type": "stream",
     "text": [
      "/home/exh4748/.local/lib/python3.9/site-packages/keras/src/engine/training.py:3103: UserWarning: You are saving your model as an HDF5 file via `model.save()`. This file format is considered legacy. We recommend using instead the native Keras format, e.g. `model.save('my_model.keras')`.\n",
      "  saving_api.save_model(\n"
     ]
    }
   ],
   "source": [
    "# Save the model after training\n",
    "model.save('basemodel.h5')"
   ]
  }
 ],
 "metadata": {
  "kernelspec": {
   "display_name": "Python 3 (ipykernel)",
   "language": "python",
   "name": "python3"
  },
  "language_info": {
   "codemirror_mode": {
    "name": "ipython",
    "version": 3
   },
   "file_extension": ".py",
   "mimetype": "text/x-python",
   "name": "python",
   "nbconvert_exporter": "python",
   "pygments_lexer": "ipython3",
   "version": "3.9.13"
  }
 },
 "nbformat": 4,
 "nbformat_minor": 5
}
